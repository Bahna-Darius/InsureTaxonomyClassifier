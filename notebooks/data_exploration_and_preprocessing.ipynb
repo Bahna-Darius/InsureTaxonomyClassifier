{
 "cells": [
  {
   "metadata": {},
   "cell_type": "markdown",
   "source": "# Import Libraries",
   "id": "7a80ca85983e79"
  },
  {
   "cell_type": "code",
   "id": "initial_id",
   "metadata": {
    "collapsed": true,
    "ExecuteTime": {
     "end_time": "2025-04-07T14:17:48.275243Z",
     "start_time": "2025-04-07T14:17:45.436789Z"
    }
   },
   "source": [
    "import matplotlib.pyplot as plt\n",
    "import pandas as pd\n",
    "import spacy\n",
    "import re\n"
   ],
   "outputs": [],
   "execution_count": 1
  },
  {
   "metadata": {},
   "cell_type": "markdown",
   "source": "# Load the Data",
   "id": "7281953b5def92b4"
  },
  {
   "metadata": {
    "ExecuteTime": {
     "end_time": "2025-04-07T14:32:29.493189Z",
     "start_time": "2025-04-07T14:32:29.401648Z"
    }
   },
   "cell_type": "code",
   "source": [
    "company_data = pd.read_csv('../data/input/ml_insurance_challenge.csv')\n",
    "taxonomy_data = pd.read_csv('../data/input/insurance_taxonomy.csv')"
   ],
   "id": "dfb8e24265b7fa1a",
   "outputs": [],
   "execution_count": 15
  },
  {
   "metadata": {},
   "cell_type": "markdown",
   "source": "# Clean Data",
   "id": "7b135a8bd0238e18"
  },
  {
   "metadata": {
    "ExecuteTime": {
     "end_time": "2025-04-07T14:32:32.148535Z",
     "start_time": "2025-04-07T14:32:32.139754Z"
    }
   },
   "cell_type": "code",
   "source": "company_data.isnull().sum()      # Missing Data",
   "id": "dc5355eb68abcd86",
   "outputs": [
    {
     "data": {
      "text/plain": [
       "description      12\n",
       "business_tags     0\n",
       "sector           27\n",
       "category         27\n",
       "niche             0\n",
       "dtype: int64"
      ]
     },
     "execution_count": 16,
     "metadata": {},
     "output_type": "execute_result"
    }
   ],
   "execution_count": 16
  },
  {
   "metadata": {},
   "cell_type": "markdown",
   "source": [
    "We have missing data, we have two options:\n",
    "\n",
    "(a) Remove rows with missing values\n",
    "\n",
    "(b) Fill missing data with a default value\n",
    "\n",
    "I delete the missing data because i don't want to fill in with wrong information (being a small number of data we don't lose a large amount of information)"
   ],
   "id": "3fb7d2e3115df4ac"
  },
  {
   "metadata": {
    "ExecuteTime": {
     "end_time": "2025-04-07T14:17:49.025971Z",
     "start_time": "2025-04-07T14:17:49.003914Z"
    }
   },
   "cell_type": "code",
   "source": [
    "company_data.dropna(inplace=True)\n",
    "company_data.isnull().sum()"
   ],
   "id": "247d3c7adc500092",
   "outputs": [
    {
     "data": {
      "text/plain": [
       "description      0\n",
       "business_tags    0\n",
       "sector           0\n",
       "category         0\n",
       "niche            0\n",
       "dtype: int64"
      ]
     },
     "execution_count": 4,
     "metadata": {},
     "output_type": "execute_result"
    }
   ],
   "execution_count": 4
  },
  {
   "metadata": {},
   "cell_type": "markdown",
   "source": "Eliminate noise (special characters, stopwords & apply Lemmatizer( \"running\", \"ran\", \"runs\" -> \"run\")) that does not bring significant information for classification.",
   "id": "ae866ce21cb30530"
  },
  {
   "metadata": {
    "ExecuteTime": {
     "end_time": "2025-04-07T14:20:12.682728Z",
     "start_time": "2025-04-07T14:17:49.126609Z"
    }
   },
   "cell_type": "code",
   "source": [
    "# !python -m spacy download en_core_web_sm\n",
    "\n",
    "nlp = spacy.load(\"en_core_web_sm\")\n",
    "\n",
    "def lemmatize_text_spacy(text):\n",
    "    doc = nlp(text)\n",
    "    lemmatized_words = [token.lemma_ for token in doc if not token.is_stop and not token.is_punct]\n",
    "\n",
    "    return \" \".join(lemmatized_words)\n",
    "\n",
    "\n",
    "company_data['description'] = company_data['description'].apply(lemmatize_text_spacy)"
   ],
   "id": "b4bcb5624a67582b",
   "outputs": [],
   "execution_count": 5
  },
  {
   "metadata": {
    "ExecuteTime": {
     "end_time": "2025-04-07T14:20:12.881976Z",
     "start_time": "2025-04-07T14:20:12.781958Z"
    }
   },
   "cell_type": "code",
   "source": [
    "company_data['business_tags'] = (\n",
    "    company_data['business_tags']\n",
    "    .str.replace(r\"[\\[\\]']\", \"\", regex=True)\n",
    "    .str.lower()\n",
    "    .str.strip()\n",
    "    .str.replace(\",\", \"\")\n",
    ")\n",
    "\n",
    "company_data['sector'] = company_data['sector'].str.lower().str.strip()\n",
    "company_data['category'] = company_data['category'].str.lower().str.strip()\n",
    "company_data['niche'] = company_data['niche'].str.lower().str.strip()"
   ],
   "id": "60dc6c67cc7d7f46",
   "outputs": [],
   "execution_count": 6
  },
  {
   "metadata": {
    "ExecuteTime": {
     "end_time": "2025-04-07T14:20:12.951545Z",
     "start_time": "2025-04-07T14:20:12.940207Z"
    }
   },
   "cell_type": "code",
   "source": "company_data.head()",
   "id": "c41501d46999a019",
   "outputs": [
    {
     "data": {
      "text/plain": [
       "                                         description  \\\n",
       "0  welchcivil civil engineering construction comp...   \n",
       "1  Kyoto Vegetable Specialists Uekamo know Iwa ma...   \n",
       "2  Loidholdhof Integrative Hofgemeinschaft compan...   \n",
       "3  PATAGONIA Chapa Y Pintura auto body shop locat...   \n",
       "4  Stanica WODNA PTTK Swornegacie cultural establ...   \n",
       "\n",
       "                                       business_tags         sector  \\\n",
       "0  construction services multi-utilities utility ...       services   \n",
       "1  wholesale dual-task movement products cast iro...  manufacturing   \n",
       "2  living forms farm cafe fresh coffee community ...  manufacturing   \n",
       "3  automotive body repair services interior repai...       services   \n",
       "4  cultural activities accommodation services kay...       services   \n",
       "\n",
       "                               category  \\\n",
       "0            civil engineering services   \n",
       "1  fruit & vegetable - markets & stores   \n",
       "2        farms & agriculture production   \n",
       "3                       auto body shops   \n",
       "4                  boat tours & cruises   \n",
       "\n",
       "                                               niche  \n",
       "0     other heavy and civil engineering construction  \n",
       "1   frozen fruit, juice, and vegetable manufacturing  \n",
       "2               all other miscellaneous crop farming  \n",
       "3  automotive body, paint, and interior repair an...  \n",
       "4       scenic and sightseeing transportation, water  "
      ],
      "text/html": [
       "<div>\n",
       "<style scoped>\n",
       "    .dataframe tbody tr th:only-of-type {\n",
       "        vertical-align: middle;\n",
       "    }\n",
       "\n",
       "    .dataframe tbody tr th {\n",
       "        vertical-align: top;\n",
       "    }\n",
       "\n",
       "    .dataframe thead th {\n",
       "        text-align: right;\n",
       "    }\n",
       "</style>\n",
       "<table border=\"1\" class=\"dataframe\">\n",
       "  <thead>\n",
       "    <tr style=\"text-align: right;\">\n",
       "      <th></th>\n",
       "      <th>description</th>\n",
       "      <th>business_tags</th>\n",
       "      <th>sector</th>\n",
       "      <th>category</th>\n",
       "      <th>niche</th>\n",
       "    </tr>\n",
       "  </thead>\n",
       "  <tbody>\n",
       "    <tr>\n",
       "      <th>0</th>\n",
       "      <td>welchcivil civil engineering construction comp...</td>\n",
       "      <td>construction services multi-utilities utility ...</td>\n",
       "      <td>services</td>\n",
       "      <td>civil engineering services</td>\n",
       "      <td>other heavy and civil engineering construction</td>\n",
       "    </tr>\n",
       "    <tr>\n",
       "      <th>1</th>\n",
       "      <td>Kyoto Vegetable Specialists Uekamo know Iwa ma...</td>\n",
       "      <td>wholesale dual-task movement products cast iro...</td>\n",
       "      <td>manufacturing</td>\n",
       "      <td>fruit &amp; vegetable - markets &amp; stores</td>\n",
       "      <td>frozen fruit, juice, and vegetable manufacturing</td>\n",
       "    </tr>\n",
       "    <tr>\n",
       "      <th>2</th>\n",
       "      <td>Loidholdhof Integrative Hofgemeinschaft compan...</td>\n",
       "      <td>living forms farm cafe fresh coffee community ...</td>\n",
       "      <td>manufacturing</td>\n",
       "      <td>farms &amp; agriculture production</td>\n",
       "      <td>all other miscellaneous crop farming</td>\n",
       "    </tr>\n",
       "    <tr>\n",
       "      <th>3</th>\n",
       "      <td>PATAGONIA Chapa Y Pintura auto body shop locat...</td>\n",
       "      <td>automotive body repair services interior repai...</td>\n",
       "      <td>services</td>\n",
       "      <td>auto body shops</td>\n",
       "      <td>automotive body, paint, and interior repair an...</td>\n",
       "    </tr>\n",
       "    <tr>\n",
       "      <th>4</th>\n",
       "      <td>Stanica WODNA PTTK Swornegacie cultural establ...</td>\n",
       "      <td>cultural activities accommodation services kay...</td>\n",
       "      <td>services</td>\n",
       "      <td>boat tours &amp; cruises</td>\n",
       "      <td>scenic and sightseeing transportation, water</td>\n",
       "    </tr>\n",
       "  </tbody>\n",
       "</table>\n",
       "</div>"
      ]
     },
     "execution_count": 7,
     "metadata": {},
     "output_type": "execute_result"
    }
   ],
   "execution_count": 7
  },
  {
   "metadata": {
    "ExecuteTime": {
     "end_time": "2025-04-07T14:20:13.320923Z",
     "start_time": "2025-04-07T14:20:13.268235Z"
    }
   },
   "cell_type": "code",
   "source": [
    "company_data['extra_info'] = company_data['sector'] + \" \" + company_data['category'] + \" \" + company_data[\"niche\"]\n",
    "company_data['full_text'] = company_data['description'] + \" \" + company_data['business_tags'] + \" \" + company_data['extra_info']"
   ],
   "id": "2962158522ffa226",
   "outputs": [],
   "execution_count": 8
  },
  {
   "metadata": {},
   "cell_type": "markdown",
   "source": "# Additional preprocessing:",
   "id": "5fb2cea511d8a966"
  },
  {
   "metadata": {
    "ExecuteTime": {
     "end_time": "2025-04-07T14:20:13.699024Z",
     "start_time": "2025-04-07T14:20:13.495891Z"
    }
   },
   "cell_type": "code",
   "source": "company_data['full_text'] = company_data['full_text'].apply(lambda x: re.sub(r'[^\\w\\s]', '', x))",
   "id": "3735cc843d4ae1d6",
   "outputs": [],
   "execution_count": 9
  },
  {
   "metadata": {
    "ExecuteTime": {
     "end_time": "2025-04-07T14:20:13.782231Z",
     "start_time": "2025-04-07T14:20:13.775230Z"
    }
   },
   "cell_type": "code",
   "source": "company_data.iloc[0, 6]",
   "id": "efb996eda156f711",
   "outputs": [
    {
     "data": {
      "text/plain": [
       "'welchcivil civil engineering construction company specialize design build utility network connection UK offer multi utility solution combine electricity gas water fibre optic installation single contract design engineer team capable design electricity water gas network exist network connection point meter location development project management reinforcement diversion provide custom connection solution account exist asset maximize usage trench meet project deadline welchcivil considerable expertise instal gas electricity connection variety market category include residential commercial industrial project construction services multiutilities utility network connections design and construction water connection installation multiutility connections fiber optic installation services civil engineering services other heavy and civil engineering construction'"
      ]
     },
     "execution_count": 10,
     "metadata": {},
     "output_type": "execute_result"
    }
   ],
   "execution_count": 10
  },
  {
   "metadata": {},
   "cell_type": "markdown",
   "source": "# Final Data:",
   "id": "6e059518dfaf8dc2"
  },
  {
   "metadata": {
    "ExecuteTime": {
     "end_time": "2025-04-07T14:20:13.967149Z",
     "start_time": "2025-04-07T14:20:13.957762Z"
    }
   },
   "cell_type": "code",
   "source": "company_data.drop(columns=['description', 'business_tags', 'sector', 'category', 'niche', 'extra_info'], inplace=True)",
   "id": "ede94118b527bfe5",
   "outputs": [],
   "execution_count": 11
  },
  {
   "metadata": {
    "ExecuteTime": {
     "end_time": "2025-04-07T14:23:26.696666Z",
     "start_time": "2025-04-07T14:23:26.576473Z"
    }
   },
   "cell_type": "code",
   "source": "company_data.to_csv(path_or_buf=\"../data/output/data_clean.csv\", index=False)",
   "id": "7b59c9f861ddb652",
   "outputs": [],
   "execution_count": 14
  },
  {
   "metadata": {
    "ExecuteTime": {
     "end_time": "2025-04-07T14:20:14.228150Z",
     "start_time": "2025-04-07T14:20:14.225214Z"
    }
   },
   "cell_type": "code",
   "source": "",
   "id": "ea68a71b42293513",
   "outputs": [],
   "execution_count": null
  }
 ],
 "metadata": {
  "kernelspec": {
   "display_name": "Python 3",
   "language": "python",
   "name": "python3"
  },
  "language_info": {
   "codemirror_mode": {
    "name": "ipython",
    "version": 2
   },
   "file_extension": ".py",
   "mimetype": "text/x-python",
   "name": "python",
   "nbconvert_exporter": "python",
   "pygments_lexer": "ipython2",
   "version": "2.7.6"
  }
 },
 "nbformat": 4,
 "nbformat_minor": 5
}
