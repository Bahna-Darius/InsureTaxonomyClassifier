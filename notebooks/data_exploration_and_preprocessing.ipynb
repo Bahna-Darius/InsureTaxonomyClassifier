{
 "cells": [
  {
   "metadata": {},
   "cell_type": "markdown",
   "source": "# Import Libraries",
   "id": "7a80ca85983e79"
  },
  {
   "cell_type": "code",
   "id": "initial_id",
   "metadata": {
    "collapsed": true,
    "ExecuteTime": {
     "end_time": "2025-04-01T17:08:40.100882Z",
     "start_time": "2025-04-01T17:08:40.094654Z"
    }
   },
   "source": [
    "import matplotlib.pyplot as plt\n",
    "import pandas as pd\n",
    "import spacy\n"
   ],
   "outputs": [],
   "execution_count": 90
  },
  {
   "metadata": {
    "ExecuteTime": {
     "end_time": "2025-04-01T17:08:40.212315Z",
     "start_time": "2025-04-01T17:08:40.126273Z"
    }
   },
   "cell_type": "code",
   "source": [
    "company_data = pd.read_csv('../data/input/ml_insurance_challenge.csv')\n",
    "taxonomy_data = pd.read_csv('../data/input/insurance_taxonomy.csv')"
   ],
   "id": "dfb8e24265b7fa1a",
   "outputs": [],
   "execution_count": 91
  },
  {
   "metadata": {
    "ExecuteTime": {
     "end_time": "2025-04-01T17:08:40.232812Z",
     "start_time": "2025-04-01T17:08:40.219515Z"
    }
   },
   "cell_type": "code",
   "source": "company_data.isnull().sum()      # Missing Data",
   "id": "dc5355eb68abcd86",
   "outputs": [
    {
     "data": {
      "text/plain": [
       "description      12\n",
       "business_tags     0\n",
       "sector           27\n",
       "category         27\n",
       "niche             0\n",
       "dtype: int64"
      ]
     },
     "execution_count": 92,
     "metadata": {},
     "output_type": "execute_result"
    }
   ],
   "execution_count": 92
  },
  {
   "metadata": {},
   "cell_type": "markdown",
   "source": [
    "We have missing data, we have two options:\n",
    "\n",
    "(a) Remove rows with missing values\n",
    "\n",
    "(b) Fill missing data with a default value\n",
    "\n",
    "I delete the missing data because i don't want to fill in with wrong information (being a small number of data we don't lose a large amount of information)"
   ],
   "id": "3fb7d2e3115df4ac"
  },
  {
   "metadata": {
    "ExecuteTime": {
     "end_time": "2025-04-01T17:08:40.294277Z",
     "start_time": "2025-04-01T17:08:40.281159Z"
    }
   },
   "cell_type": "code",
   "source": [
    "company_data.dropna(inplace=True)\n",
    "company_data.isnull().sum()"
   ],
   "id": "247d3c7adc500092",
   "outputs": [
    {
     "data": {
      "text/plain": [
       "description      0\n",
       "business_tags    0\n",
       "sector           0\n",
       "category         0\n",
       "niche            0\n",
       "dtype: int64"
      ]
     },
     "execution_count": 93,
     "metadata": {},
     "output_type": "execute_result"
    }
   ],
   "execution_count": 93
  },
  {
   "metadata": {},
   "cell_type": "markdown",
   "source": "Eliminate noise (special characters, stopwords & apply Lemmatizer( \"running\", \"ran\", \"runs\" -> \"run\")) that does not bring significant information for classification.",
   "id": "ae866ce21cb30530"
  },
  {
   "metadata": {
    "ExecuteTime": {
     "end_time": "2025-04-01T17:11:03.317801Z",
     "start_time": "2025-04-01T17:08:40.733154Z"
    }
   },
   "cell_type": "code",
   "source": [
    "# !python -m spacy download en_core_web_sm\n",
    "\n",
    "nlp = spacy.load(\"en_core_web_sm\")\n",
    "\n",
    "def lemmatize_text_spacy(text):\n",
    "    doc = nlp(text)\n",
    "    lemmatized_words = [token.lemma_ for token in doc if not token.is_stop and not token.is_punct]\n",
    "\n",
    "    return \" \".join(lemmatized_words)\n",
    "\n",
    "\n",
    "company_data['clean_description'] = company_data['description'].apply(lemmatize_text_spacy)"
   ],
   "id": "b4bcb5624a67582b",
   "outputs": [],
   "execution_count": 96
  },
  {
   "metadata": {
    "ExecuteTime": {
     "end_time": "2025-04-01T17:39:01.806620Z",
     "start_time": "2025-04-01T17:39:01.749320Z"
    }
   },
   "cell_type": "code",
   "source": [
    "company_data['clean_business_tags'] = (\n",
    "    company_data['business_tags']\n",
    "    .str.replace(r\"[\\[\\]']\", \"\", regex=True)\n",
    "    .str.lower()\n",
    "    .str.strip()\n",
    ")\n",
    "\n",
    "\n",
    "company_data[['business_tags', 'clean_business_tags']].head()\n"
   ],
   "id": "60dc6c67cc7d7f46",
   "outputs": [
    {
     "data": {
      "text/plain": [
       "                                       business_tags  \\\n",
       "0  ['Construction Services', 'Multi-utilities', '...   \n",
       "1  ['Wholesale', 'Dual-task Movement Products', '...   \n",
       "2  ['Living Forms', 'Farm Cafe', 'Fresh Coffee', ...   \n",
       "3  ['Automotive Body Repair Services', 'Interior ...   \n",
       "4  ['Cultural Activities', 'Accommodation Service...   \n",
       "\n",
       "                                 clean_business_tags  \n",
       "0  construction services, multi-utilities, utilit...  \n",
       "1  wholesale, dual-task movement products, cast i...  \n",
       "2  living forms, farm cafe, fresh coffee, communi...  \n",
       "3  automotive body repair services, interior repa...  \n",
       "4  cultural activities, accommodation services, k...  "
      ],
      "text/html": [
       "<div>\n",
       "<style scoped>\n",
       "    .dataframe tbody tr th:only-of-type {\n",
       "        vertical-align: middle;\n",
       "    }\n",
       "\n",
       "    .dataframe tbody tr th {\n",
       "        vertical-align: top;\n",
       "    }\n",
       "\n",
       "    .dataframe thead th {\n",
       "        text-align: right;\n",
       "    }\n",
       "</style>\n",
       "<table border=\"1\" class=\"dataframe\">\n",
       "  <thead>\n",
       "    <tr style=\"text-align: right;\">\n",
       "      <th></th>\n",
       "      <th>business_tags</th>\n",
       "      <th>clean_business_tags</th>\n",
       "    </tr>\n",
       "  </thead>\n",
       "  <tbody>\n",
       "    <tr>\n",
       "      <th>0</th>\n",
       "      <td>['Construction Services', 'Multi-utilities', '...</td>\n",
       "      <td>construction services, multi-utilities, utilit...</td>\n",
       "    </tr>\n",
       "    <tr>\n",
       "      <th>1</th>\n",
       "      <td>['Wholesale', 'Dual-task Movement Products', '...</td>\n",
       "      <td>wholesale, dual-task movement products, cast i...</td>\n",
       "    </tr>\n",
       "    <tr>\n",
       "      <th>2</th>\n",
       "      <td>['Living Forms', 'Farm Cafe', 'Fresh Coffee', ...</td>\n",
       "      <td>living forms, farm cafe, fresh coffee, communi...</td>\n",
       "    </tr>\n",
       "    <tr>\n",
       "      <th>3</th>\n",
       "      <td>['Automotive Body Repair Services', 'Interior ...</td>\n",
       "      <td>automotive body repair services, interior repa...</td>\n",
       "    </tr>\n",
       "    <tr>\n",
       "      <th>4</th>\n",
       "      <td>['Cultural Activities', 'Accommodation Service...</td>\n",
       "      <td>cultural activities, accommodation services, k...</td>\n",
       "    </tr>\n",
       "  </tbody>\n",
       "</table>\n",
       "</div>"
      ]
     },
     "execution_count": 103,
     "metadata": {},
     "output_type": "execute_result"
    }
   ],
   "execution_count": 103
  },
  {
   "metadata": {
    "ExecuteTime": {
     "end_time": "2025-04-01T17:52:57.239264Z",
     "start_time": "2025-04-01T17:52:57.230050Z"
    }
   },
   "cell_type": "code",
   "source": "",
   "id": "c41501d46999a019",
   "outputs": [],
   "execution_count": null
  },
  {
   "metadata": {
    "ExecuteTime": {
     "end_time": "2025-04-01T17:11:03.493705Z",
     "start_time": "2025-04-01T17:11:03.485235Z"
    }
   },
   "cell_type": "code",
   "source": "",
   "id": "3735cc843d4ae1d6",
   "outputs": [],
   "execution_count": null
  }
 ],
 "metadata": {
  "kernelspec": {
   "display_name": "Python 3",
   "language": "python",
   "name": "python3"
  },
  "language_info": {
   "codemirror_mode": {
    "name": "ipython",
    "version": 2
   },
   "file_extension": ".py",
   "mimetype": "text/x-python",
   "name": "python",
   "nbconvert_exporter": "python",
   "pygments_lexer": "ipython2",
   "version": "2.7.6"
  }
 },
 "nbformat": 4,
 "nbformat_minor": 5
}
